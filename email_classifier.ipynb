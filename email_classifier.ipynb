{
 "cells": [
  {
   "cell_type": "markdown",
   "metadata": {},
   "source": [
    "Training and test splitting"
   ]
  },
  {
   "cell_type": "code",
   "execution_count": 6,
   "metadata": {},
   "outputs": [
    {
     "name": "stdout",
     "output_type": "stream",
     "text": [
      "(4137, 3000) (1035, 3000) (4137,) (1035,)\n"
     ]
    }
   ],
   "source": [
    "import pandas as pd\n",
    "import numpy as np\n",
    "\n",
    "# load the dataset\n",
    "file_path = 'data/emails.csv'\n",
    "emails_data = pd.read_csv(file_path)\n",
    "\n",
    "# drop the 'Email No.' column as it's not useful for the model\n",
    "emails_data_cleaned = emails_data.drop(columns=['Email No.'])\n",
    "\n",
    "# separate features (X) and labels (y)\n",
    "X = emails_data_cleaned.drop(columns=['Prediction']).values\n",
    "y = emails_data_cleaned['Prediction'].values\n",
    "\n",
    "# set a seed for reproducibility\n",
    "np.random.seed(42)\n",
    "\n",
    "# shuffle the indices\n",
    "indices = np.arange(X.shape[0])\n",
    "np.random.shuffle(indices)\n",
    "\n",
    "# split the data (80% training, 20% testing)\n",
    "split_index = int(0.8 * len(indices))\n",
    "train_indices = indices[:split_index]\n",
    "test_indices = indices[split_index:]\n",
    "\n",
    "X_train, X_test = X[train_indices], X[test_indices]\n",
    "y_train, y_test = y[train_indices], y[test_indices]\n",
    "\n",
    "# print shapes to verify\n",
    "print(X_train.shape, X_test.shape, y_train.shape, y_test.shape)\n"
   ]
  },
  {
   "cell_type": "markdown",
   "metadata": {},
   "source": [
    "Next step"
   ]
  },
  {
   "cell_type": "code",
   "execution_count": null,
   "metadata": {},
   "outputs": [
    {
     "name": "stdout",
     "output_type": "stream",
     "text": [
      "Accuracy: 0.94\n"
     ]
    }
   ],
   "source": [
    "import numpy as np\n",
    "\n",
    "# calculate prior probabilities\n",
    "def calculate_prior(y):\n",
    "    spam_prior = np.sum(y) / len(y)\n",
    "    not_spam_prior = 1 - spam_prior\n",
    "    return spam_prior, not_spam_prior\n",
    "\n",
    "# calculate likelihoods\n",
    "def calculate_likelihood(X, y):\n",
    "    spam_likelihood = (X[y == 1].sum(axis=0) + 1) / (np.sum(X[y == 1]) + X.shape[1])\n",
    "    not_spam_likelihood = (X[y == 0].sum(axis=0) + 1) / (np.sum(X[y == 0]) + X.shape[1])\n",
    "    return spam_likelihood, not_spam_likelihood\n",
    "\n",
    "# predict class for a single email\n",
    "def predict_email(email, spam_prior, not_spam_prior, spam_likelihood, not_spam_likelihood):\n",
    "    spam_score = np.log(spam_prior) + np.sum(email * np.log(spam_likelihood))\n",
    "    not_spam_score = np.log(not_spam_prior) + np.sum(email * np.log(not_spam_likelihood))\n",
    "    return 1 if spam_score > not_spam_score else 0\n",
    "\n",
    "# predict class for the entire dataset\n",
    "def predict(X, spam_prior, not_spam_prior, spam_likelihood, not_spam_likelihood):\n",
    "    predictions = []\n",
    "    for email in X:\n",
    "        predictions.append(predict_email(email, spam_prior, not_spam_prior, spam_likelihood, not_spam_likelihood))\n",
    "    return np.array(predictions)\n",
    "\n",
    "# training phase\n",
    "spam_prior, not_spam_prior = calculate_prior(y_train)\n",
    "spam_likelihood, not_spam_likelihood = calculate_likelihood(X_train, y_train)\n",
    "\n",
    "# prediction phase\n",
    "y_pred = predict(X_test, spam_prior, not_spam_prior, spam_likelihood, not_spam_likelihood)\n",
    "\n",
    "# evaluate accuracy\n",
    "accuracy = np.mean(y_pred == y_test)\n",
    "print(f'Accuracy: {accuracy:.2f}')"
   ]
  }
 ],
 "metadata": {
  "kernelspec": {
   "display_name": "base",
   "language": "python",
   "name": "python3"
  },
  "language_info": {
   "codemirror_mode": {
    "name": "ipython",
    "version": 3
   },
   "file_extension": ".py",
   "mimetype": "text/x-python",
   "name": "python",
   "nbconvert_exporter": "python",
   "pygments_lexer": "ipython3",
   "version": "3.12.4"
  }
 },
 "nbformat": 4,
 "nbformat_minor": 2
}
