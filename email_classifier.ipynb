{
 "cells": [
  {
   "cell_type": "markdown",
   "metadata": {},
   "source": [
    "Training and test splitting"
   ]
  },
  {
   "cell_type": "code",
   "execution_count": 6,
   "metadata": {},
   "outputs": [
    {
     "name": "stdout",
     "output_type": "stream",
     "text": [
      "(4137, 3000) (1035, 3000) (4137,) (1035,)\n"
     ]
    }
   ],
   "source": [
    "import pandas as pd\n",
    "import numpy as np\n",
    "\n",
    "# load the dataset\n",
    "file_path = 'data/emails.csv'\n",
    "emails_data = pd.read_csv(file_path)\n",
    "\n",
    "# drop the 'Email No.' column as it's not useful for the model\n",
    "emails_data_cleaned = emails_data.drop(columns=['Email No.'])\n",
    "\n",
    "# separate features (X) and labels (y)\n",
    "X = emails_data_cleaned.drop(columns=['Prediction']).values\n",
    "y = emails_data_cleaned['Prediction'].values\n",
    "\n",
    "# set a seed for reproducibility\n",
    "np.random.seed(42)\n",
    "\n",
    "# shuffle the indices\n",
    "indices = np.arange(X.shape[0])\n",
    "np.random.shuffle(indices)\n",
    "\n",
    "# split the data (80% training, 20% testing)\n",
    "split_index = int(0.8 * len(indices))\n",
    "train_indices = indices[:split_index]\n",
    "test_indices = indices[split_index:]\n",
    "\n",
    "X_train, X_test = X[train_indices], X[test_indices]\n",
    "y_train, y_test = y[train_indices], y[test_indices]\n",
    "\n",
    "# print shapes to verify\n",
    "print(X_train.shape, X_test.shape, y_train.shape, y_test.shape)\n"
   ]
  },
  {
   "cell_type": "markdown",
   "metadata": {},
   "source": [
    "Implement the model"
   ]
  },
  {
   "cell_type": "code",
   "execution_count": 9,
   "metadata": {},
   "outputs": [
    {
     "name": "stdout",
     "output_type": "stream",
     "text": [
      "Accuracy: 0.94\n"
     ]
    }
   ],
   "source": [
    "import numpy as np\n",
    "\n",
    "# calculate prior probabilities for spam and not spam\n",
    "def calculate_prior(y):\n",
    "    total_emails = len(y)\n",
    "    spam_count = np.sum(y)  # count of emails labeled as spam\n",
    "    not_spam_count = total_emails - spam_count  # count of emails labeled as not spam\n",
    "\n",
    "    spam_prior = spam_count / total_emails\n",
    "    not_spam_prior = not_spam_count / total_emails\n",
    "\n",
    "    return spam_prior, not_spam_prior\n",
    "\n",
    "# calculate word likelihoods with laplace smoothing\n",
    "def calculate_likelihood(X, y):\n",
    "    # separate emails by class\n",
    "    spam_emails = X[y == 1]\n",
    "    not_spam_emails = X[y == 0]\n",
    "\n",
    "    # calculate word counts for each class\n",
    "    spam_word_counts = np.sum(spam_emails, axis=0)\n",
    "    not_spam_word_counts = np.sum(not_spam_emails, axis=0)\n",
    "\n",
    "    # calculate total word counts for each class\n",
    "    total_spam_words = np.sum(spam_word_counts)\n",
    "    total_not_spam_words = np.sum(not_spam_word_counts)\n",
    "\n",
    "    # apply laplace smoothing to avoid zero probabilities\n",
    "    vocab_size = X.shape[1]\n",
    "    spam_likelihood = (spam_word_counts + 1) / (total_spam_words + vocab_size)\n",
    "    not_spam_likelihood = (not_spam_word_counts + 1) / (total_not_spam_words + vocab_size)\n",
    "\n",
    "    return spam_likelihood, not_spam_likelihood\n",
    "\n",
    "# predict the class for a single email\n",
    "def predict_email(email, spam_prior, not_spam_prior, spam_likelihood, not_spam_likelihood):\n",
    "    # calculate the log-probabilities for spam and not spam\n",
    "    spam_score = np.log(spam_prior) + np.sum(email * np.log(spam_likelihood))\n",
    "    not_spam_score = np.log(not_spam_prior) + np.sum(email * np.log(not_spam_likelihood))\n",
    "\n",
    "    # assign the class with the higher score\n",
    "    if spam_score > not_spam_score:\n",
    "        return 1  # spam\n",
    "    else:\n",
    "        return 0  # not spam\n",
    "\n",
    "# predict the class for all emails in the dataset\n",
    "def predict(X, spam_prior, not_spam_prior, spam_likelihood, not_spam_likelihood):\n",
    "    predictions = []\n",
    "    for email in X:\n",
    "        predicted_class = predict_email(\n",
    "            email,\n",
    "            spam_prior,\n",
    "            not_spam_prior,\n",
    "            spam_likelihood,\n",
    "            not_spam_likelihood\n",
    "        )\n",
    "        predictions.append(predicted_class)\n",
    "    return np.array(predictions)\n",
    "\n",
    "# training phase: calculate prior probabilities and likelihoods\n",
    "spam_prior, not_spam_prior = calculate_prior(y_train)\n",
    "spam_likelihood, not_spam_likelihood = calculate_likelihood(X_train, y_train)\n",
    "\n",
    "# prediction phase: classify test emails\n",
    "y_pred = predict(X_test, spam_prior, not_spam_prior, spam_likelihood, not_spam_likelihood)\n",
    "\n",
    "# evaluate accuracy\n",
    "accuracy = np.mean(y_pred == y_test)\n",
    "print(f'Accuracy: {accuracy:.2f}')\n"
   ]
  }
 ],
 "metadata": {
  "kernelspec": {
   "display_name": "base",
   "language": "python",
   "name": "python3"
  },
  "language_info": {
   "codemirror_mode": {
    "name": "ipython",
    "version": 3
   },
   "file_extension": ".py",
   "mimetype": "text/x-python",
   "name": "python",
   "nbconvert_exporter": "python",
   "pygments_lexer": "ipython3",
   "version": "3.12.4"
  }
 },
 "nbformat": 4,
 "nbformat_minor": 2
}
